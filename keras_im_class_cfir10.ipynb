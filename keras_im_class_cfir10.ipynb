{
 "cells": [
  {
   "cell_type": "code",
   "execution_count": 1,
   "metadata": {},
   "outputs": [],
   "source": [
    "import matplotlib.pyplot as plt"
   ]
  },
  {
   "cell_type": "code",
   "execution_count": 2,
   "metadata": {},
   "outputs": [
    {
     "name": "stderr",
     "output_type": "stream",
     "text": [
      "Using TensorFlow backend.\n"
     ]
    }
   ],
   "source": [
    "from keras.datasets import cifar10 as cifar10"
   ]
  },
  {
   "cell_type": "code",
   "execution_count": 3,
   "metadata": {},
   "outputs": [],
   "source": [
    "(X_train,y_train),( X_test,y_test) = cifar10.load_data()"
   ]
  },
  {
   "cell_type": "code",
   "execution_count": 14,
   "metadata": {},
   "outputs": [
    {
     "data": {
      "text/plain": [
       "<matplotlib.image.AxesImage at 0x7f5535308d30>"
      ]
     },
     "execution_count": 14,
     "metadata": {},
     "output_type": "execute_result"
    },
    {
     "data": {
      "image/png": "[encoded data removed]",
      "text/plain": [
       "<Figure size 432x288 with 1 Axes>"
      ]
     },
     "metadata": {
      "needs_background": "light"
     },
     "output_type": "display_data"
    }
   ],
   "source": [
    "plt.imshow(X_test[4])"
   ]
  },
  {
   "cell_type": "code",
   "execution_count": 5,
   "metadata": {},
   "outputs": [
    {
     "data": {
      "text/plain": [
       "(10000, 32, 32, 3)"
      ]
     },
     "execution_count": 5,
     "metadata": {},
     "output_type": "execute_result"
    }
   ],
   "source": [
    "X_test.shape"
   ]
  },
  {
   "cell_type": "code",
   "execution_count": 6,
   "metadata": {},
   "outputs": [
    {
     "data": {
      "text/plain": [
       "(50000, 1)"
      ]
     },
     "execution_count": 6,
     "metadata": {},
     "output_type": "execute_result"
    }
   ],
   "source": [
    "y_train.shape"
   ]
  },
  {
   "cell_type": "code",
   "execution_count": 7,
   "metadata": {},
   "outputs": [],
   "source": [
    "# normalise pixel values for both the training and the testing data\n",
    "X_train = X_train.astype('float32')\n",
    "X_test = X_test.astype('float32')\n",
    "\n",
    "X_train = X_train/255.0\n",
    "X_test = X_test/255.0"
   ]
  },
  {
   "cell_type": "code",
   "execution_count": 8,
   "metadata": {},
   "outputs": [],
   "source": [
    "#The final labelling is done as such:\n",
    "\n",
    "# 0 - airplane\n",
    "# 1 - automobile\n",
    "# 2 - bird\n",
    "# 3 - cat\n",
    "# 4 - deer\n",
    "# 5 - dog\n",
    "# 6 - frog\n",
    "# 7 - horse\n",
    "# 8 - ship\n",
    "# 9 - truck"
   ]
  },
  {
   "cell_type": "code",
   "execution_count": 9,
   "metadata": {},
   "outputs": [
    {
     "data": {
      "text/plain": [
       "array([[[0.23137255, 0.24313726, 0.24705882],\n",
       "        [0.16862746, 0.18039216, 0.1764706 ],\n",
       "        [0.19607843, 0.1882353 , 0.16862746],\n",
       "        ...,\n",
       "        [0.61960787, 0.5176471 , 0.42352942],\n",
       "        [0.59607846, 0.49019608, 0.4       ],\n",
       "        [0.5803922 , 0.4862745 , 0.40392157]],\n",
       "\n",
       "       [[0.0627451 , 0.07843138, 0.07843138],\n",
       "        [0.        , 0.        , 0.        ],\n",
       "        [0.07058824, 0.03137255, 0.        ],\n",
       "        ...,\n",
       "        [0.48235294, 0.34509805, 0.21568628],\n",
       "        [0.46666667, 0.3254902 , 0.19607843],\n",
       "        [0.47843137, 0.34117648, 0.22352941]],\n",
       "\n",
       "       [[0.09803922, 0.09411765, 0.08235294],\n",
       "        [0.0627451 , 0.02745098, 0.        ],\n",
       "        [0.19215687, 0.10588235, 0.03137255],\n",
       "        ...,\n",
       "        [0.4627451 , 0.32941177, 0.19607843],\n",
       "        [0.47058824, 0.32941177, 0.19607843],\n",
       "        [0.42745098, 0.28627452, 0.16470589]],\n",
       "\n",
       "       ...,\n",
       "\n",
       "       [[0.8156863 , 0.6666667 , 0.3764706 ],\n",
       "        [0.7882353 , 0.6       , 0.13333334],\n",
       "        [0.7764706 , 0.6313726 , 0.10196079],\n",
       "        ...,\n",
       "        [0.627451  , 0.52156866, 0.27450982],\n",
       "        [0.21960784, 0.12156863, 0.02745098],\n",
       "        [0.20784314, 0.13333334, 0.07843138]],\n",
       "\n",
       "       [[0.7058824 , 0.54509807, 0.3764706 ],\n",
       "        [0.6784314 , 0.48235294, 0.16470589],\n",
       "        [0.7294118 , 0.5647059 , 0.11764706],\n",
       "        ...,\n",
       "        [0.72156864, 0.5803922 , 0.36862746],\n",
       "        [0.38039216, 0.24313726, 0.13333334],\n",
       "        [0.3254902 , 0.20784314, 0.13333334]],\n",
       "\n",
       "       [[0.69411767, 0.5647059 , 0.45490196],\n",
       "        [0.65882355, 0.5058824 , 0.36862746],\n",
       "        [0.7019608 , 0.5568628 , 0.34117648],\n",
       "        ...,\n",
       "        [0.84705883, 0.72156864, 0.54901963],\n",
       "        [0.5921569 , 0.4627451 , 0.32941177],\n",
       "        [0.48235294, 0.36078432, 0.28235295]]], dtype=float32)"
      ]
     },
     "execution_count": 9,
     "metadata": {},
     "output_type": "execute_result"
    }
   ],
   "source": [
    "X_train[0]"
   ]
  },
  {
   "cell_type": "code",
   "execution_count": 10,
   "metadata": {},
   "outputs": [],
   "source": [
    "#output column vectors to indicate what class each image is identified as\n",
    "\n",
    "from keras.utils import to_categorical\n",
    "y_train = to_categorical(y_train)\n",
    "y_test = to_categorical(y_test)"
   ]
  },
  {
   "cell_type": "code",
   "execution_count": 11,
   "metadata": {},
   "outputs": [],
   "source": [
    "#Sequential model \n",
    "\n",
    "from keras.models import Sequential\n",
    "\n",
    "#layers\n",
    "from keras.layers import Dense, Conv2D, Flatten, MaxPooling2D, Dropout\n",
    "\n",
    "#constraint used in regularization of the model as a tradeoff between overfitting and generalization of the model\n",
    "from keras.constraints import maxnorm"
   ]
  },
  {
   "cell_type": "code",
   "execution_count": 12,
   "metadata": {},
   "outputs": [],
   "source": [
    "#Sequential model\n",
    "model = Sequential()"
   ]
  },
  {
   "cell_type": "code",
   "execution_count": 13,
   "metadata": {},
   "outputs": [],
   "source": [
    "# First 2D convolutional layer\n",
    "model.add(Conv2D(64, kernel_size=3, activation='relu', input_shape=(32,32,3), kernel_constraint=maxnorm(3)))\n",
    "# 20% Dropout\n",
    "model.add(Dropout(0.2))\n",
    "# Second 2D convolutional layer\n",
    "model.add(Conv2D(64, kernel_size=3, activation='relu', kernel_constraint=maxnorm(3)))\n",
    "# Pooling \n",
    "model.add(MaxPooling2D(pool_size=(2,2)))\n",
    "# Flatten to join the convolutional layers to the fully connected(Dense) layers\n",
    "model.add(Flatten())\n",
    "# First dense layer\n",
    "model.add(Dense(100, activation='relu', kernel_constraint=maxnorm(3)))\n",
    "# Dropout\n",
    "model.add(Dropout(0.4))\n",
    "# Last output layer\n",
    "model.add(Dense(10, activation='softmax'))"
   ]
  },
  {
   "cell_type": "code",
   "execution_count": 14,
   "metadata": {},
   "outputs": [],
   "source": [
    "#we will be using SGD(Stochastic Gradient Descent) as our loss function\n",
    "#SGD requires a couple of things; namely, learning rate(lrate), decay = lrate/epochs, momentum, and nesterov\n",
    "\n",
    "from keras.optimizers import SGD\n",
    "\n",
    "lrate = 0.01\n",
    "epochs = 25\n",
    "decay = lrate/epochs\n",
    "\n",
    "sgd = SGD(lr=lrate, decay=decay, momentum=0.9, nesterov=False)\n",
    "\n",
    "model.compile(optimizer=sgd, loss='categorical_crossentropy', metrics=['accuracy'])"
   ]
  },
  {
   "cell_type": "code",
   "execution_count": 15,
   "metadata": {},
   "outputs": [
    {
     "name": "stdout",
     "output_type": "stream",
     "text": [
      "Train on 50000 samples, validate on 10000 samples\n",
      "Epoch 1/25\n",
      "50000/50000 [==============================] - 270s 5ms/step - loss: 1.7565 - acc: 0.3579 - val_loss: 1.3838 - val_acc: 0.5066\n",
      "Epoch 2/25\n",
      "50000/50000 [==============================] - 265s 5ms/step - loss: 1.3581 - acc: 0.5142 - val_loss: 1.2480 - val_acc: 0.5608\n",
      "Epoch 3/25\n",
      "50000/50000 [==============================] - 284s 6ms/step - loss: 1.1896 - acc: 0.5743 - val_loss: 1.0581 - val_acc: 0.6287\n",
      "Epoch 4/25\n",
      "50000/50000 [==============================] - 280s 6ms/step - loss: 1.0705 - acc: 0.6213 - val_loss: 1.0102 - val_acc: 0.6430\n",
      "Epoch 5/25\n",
      "50000/50000 [==============================] - 262s 5ms/step - loss: 0.9856 - acc: 0.6531 - val_loss: 0.9639 - val_acc: 0.6555\n",
      "Epoch 6/25\n",
      "50000/50000 [==============================] - 261s 5ms/step - loss: 0.9131 - acc: 0.6736 - val_loss: 0.9297 - val_acc: 0.6753\n",
      "Epoch 7/25\n",
      "50000/50000 [==============================] - 259s 5ms/step - loss: 0.8576 - acc: 0.6960 - val_loss: 0.9151 - val_acc: 0.6754\n",
      "Epoch 8/25\n",
      "50000/50000 [==============================] - 259s 5ms/step - loss: 0.8052 - acc: 0.7131 - val_loss: 0.8962 - val_acc: 0.6893\n",
      "Epoch 9/25\n",
      "50000/50000 [==============================] - 263s 5ms/step - loss: 0.7610 - acc: 0.7286 - val_loss: 0.9035 - val_acc: 0.6837\n",
      "Epoch 10/25\n",
      "50000/50000 [==============================] - 256s 5ms/step - loss: 0.7234 - acc: 0.7441 - val_loss: 0.8857 - val_acc: 0.6948\n",
      "Epoch 11/25\n",
      "50000/50000 [==============================] - 262s 5ms/step - loss: 0.6836 - acc: 0.7577 - val_loss: 0.8894 - val_acc: 0.6976\n",
      "Epoch 12/25\n",
      "50000/50000 [==============================] - 261s 5ms/step - loss: 0.6501 - acc: 0.7689 - val_loss: 0.8976 - val_acc: 0.6971\n",
      "Epoch 13/25\n",
      "50000/50000 [==============================] - 265s 5ms/step - loss: 0.6199 - acc: 0.7795 - val_loss: 0.8996 - val_acc: 0.6988\n",
      "Epoch 14/25\n",
      "50000/50000 [==============================] - 270s 5ms/step - loss: 0.5925 - acc: 0.7891 - val_loss: 0.9075 - val_acc: 0.6988\n",
      "Epoch 15/25\n",
      "50000/50000 [==============================] - 267s 5ms/step - loss: 0.5647 - acc: 0.7983 - val_loss: 0.9013 - val_acc: 0.6999\n",
      "Epoch 16/25\n",
      "50000/50000 [==============================] - 268s 5ms/step - loss: 0.5372 - acc: 0.8074 - val_loss: 0.9187 - val_acc: 0.7029\n",
      "Epoch 17/25\n",
      "50000/50000 [==============================] - 264s 5ms/step - loss: 0.5117 - acc: 0.8165 - val_loss: 0.9266 - val_acc: 0.7009\n",
      "Epoch 18/25\n",
      "50000/50000 [==============================] - 269s 5ms/step - loss: 0.4895 - acc: 0.8254 - val_loss: 0.9394 - val_acc: 0.7018\n",
      "Epoch 19/25\n",
      "50000/50000 [==============================] - 265s 5ms/step - loss: 0.4696 - acc: 0.8299 - val_loss: 0.9460 - val_acc: 0.7013\n",
      "Epoch 20/25\n",
      "50000/50000 [==============================] - 296s 6ms/step - loss: 0.4529 - acc: 0.8396 - val_loss: 0.9493 - val_acc: 0.7017\n",
      "Epoch 21/25\n",
      "50000/50000 [==============================] - 267s 5ms/step - loss: 0.4344 - acc: 0.8431 - val_loss: 0.9577 - val_acc: 0.7015\n",
      "Epoch 22/25\n",
      "50000/50000 [==============================] - 261s 5ms/step - loss: 0.4168 - acc: 0.8482 - val_loss: 0.9710 - val_acc: 0.7016\n",
      "Epoch 23/25\n",
      "50000/50000 [==============================] - 270s 5ms/step - loss: 0.4016 - acc: 0.8554 - val_loss: 0.9930 - val_acc: 0.7009\n",
      "Epoch 24/25\n",
      "50000/50000 [==============================] - 264s 5ms/step - loss: 0.3911 - acc: 0.8593 - val_loss: 0.9899 - val_acc: 0.7002\n",
      "Epoch 25/25\n",
      "50000/50000 [==============================] - 265s 5ms/step - loss: 0.3772 - acc: 0.8642 - val_loss: 0.9975 - val_acc: 0.7058\n"
     ]
    },
    {
     "data": {
      "text/plain": [
       "<keras.callbacks.History at 0x7f49e4f4e358>"
      ]
     },
     "execution_count": 15,
     "metadata": {},
     "output_type": "execute_result"
    }
   ],
   "source": [
    "model.fit(X_train, y_train, validation_data=(X_test, y_test), epochs=25, batch_size=32)"
   ]
  },
  {
   "cell_type": "code",
   "execution_count": 23,
   "metadata": {},
   "outputs": [],
   "source": [
    "prediction = model.predict(X_test[:5])"
   ]
  },
  {
   "cell_type": "code",
   "execution_count": 24,
   "metadata": {},
   "outputs": [
    {
     "data": {
      "text/plain": [
       "array([[7.17210677e-03, 3.65750529e-05, 4.78597125e-03, 5.51711023e-01,\n",
       "        4.05700225e-03, 2.63747722e-01, 4.26780991e-02, 1.12417300e-04,\n",
       "        1.25215739e-01, 4.83341981e-04],\n",
       "       [1.02206657e-03, 8.97699744e-02, 4.42709688e-11, 6.37836612e-14,\n",
       "        6.14211969e-13, 2.01901156e-16, 7.00967604e-14, 3.73704634e-14,\n",
       "        9.09207523e-01, 4.14448095e-07],\n",
       "       [3.24114710e-01, 7.77701288e-03, 1.17693075e-04, 6.44307556e-06,\n",
       "        1.36760582e-05, 3.23117000e-08, 2.78635124e-08, 9.61713909e-07,\n",
       "        6.64609671e-01, 3.35981511e-03],\n",
       "       [7.55351007e-01, 2.39002664e-04, 5.56482235e-03, 1.84006130e-05,\n",
       "        2.69889046e-04, 8.11907874e-09, 1.38342864e-06, 3.87131287e-08,\n",
       "        2.38551021e-01, 4.41969041e-06],\n",
       "       [6.59710064e-11, 1.14100132e-10, 1.63930934e-03, 2.57364800e-03,\n",
       "        9.28901672e-01, 6.28373382e-05, 6.68225810e-02, 2.20107719e-08,\n",
       "        3.66900399e-11, 4.02296980e-11]], dtype=float32)"
      ]
     },
     "execution_count": 24,
     "metadata": {},
     "output_type": "execute_result"
    }
   ],
   "source": [
    "prediction"
   ]
  },
  {
   "cell_type": "code",
   "execution_count": 25,
   "metadata": {},
   "outputs": [
    {
     "data": {
      "text/plain": [
       "array([[0., 0., 0., 1., 0., 0., 0., 0., 0., 0.],\n",
       "       [0., 0., 0., 0., 0., 0., 0., 0., 1., 0.],\n",
       "       [0., 0., 0., 0., 0., 0., 0., 0., 1., 0.],\n",
       "       [1., 0., 0., 0., 0., 0., 0., 0., 0., 0.],\n",
       "       [0., 0., 0., 0., 0., 0., 1., 0., 0., 0.]], dtype=float32)"
      ]
     },
     "execution_count": 25,
     "metadata": {},
     "output_type": "execute_result"
    }
   ],
   "source": [
    "y_test[:5]"
   ]
  },
  {
   "cell_type": "code",
   "execution_count": null,
   "metadata": {},
   "outputs": [],
   "source": []
  }
 ],
 "metadata": {
  "kernelspec": {
   "display_name": "Python 3",
   "language": "python",
   "name": "python3"
  },
  "language_info": {
   "codemirror_mode": {
    "name": "ipython",
    "version": 3
   },
   "file_extension": ".py",
   "mimetype": "text/x-python",
   "name": "python",
   "nbconvert_exporter": "python",
   "pygments_lexer": "ipython3",
   "version": "3.5.2"
  }
 },
 "nbformat": 4,
 "nbformat_minor": 2
}
