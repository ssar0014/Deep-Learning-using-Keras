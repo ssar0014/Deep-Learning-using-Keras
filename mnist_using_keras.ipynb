{
 "cells": [
  {
   "cell_type": "code",
   "execution_count": 1,
   "metadata": {},
   "outputs": [],
   "source": [
    "import matplotlib.pyplot as plt"
   ]
  },
  {
   "cell_type": "code",
   "execution_count": 2,
   "metadata": {},
   "outputs": [
    {
     "name": "stderr",
     "output_type": "stream",
     "text": [
      "Using TensorFlow backend.\n"
     ]
    }
   ],
   "source": [
    "from keras.datasets import mnist"
   ]
  },
  {
   "cell_type": "code",
   "execution_count": 3,
   "metadata": {},
   "outputs": [],
   "source": [
    "#make the training and testing data\n",
    "(X_train, y_train), (X_test, y_test) = mnist.load_data()"
   ]
  },
  {
   "cell_type": "code",
   "execution_count": 7,
   "metadata": {},
   "outputs": [
    {
     "data": {
      "text/plain": [
       "(60000, 28, 28)"
      ]
     },
     "execution_count": 7,
     "metadata": {},
     "output_type": "execute_result"
    }
   ],
   "source": [
    "#plt.imshow(X_test[0])\n",
    "X_train.shape"
   ]
  },
  {
   "cell_type": "code",
   "execution_count": 5,
   "metadata": {},
   "outputs": [],
   "source": [
    "#reshape the data to feed into the network\n",
    "X_train = X_train.reshape(60000,28,28,1)\n",
    "X_test = X_test.reshape(10000,28,28,1)"
   ]
  },
  {
   "cell_type": "code",
   "execution_count": 6,
   "metadata": {},
   "outputs": [],
   "source": [
    "#column is created for each output category and a binary variable is inputted for each category\n",
    "#essentially what this means is that we have a column with ten 0s [0-9], and for every number/digit that is \n",
    "#identified, a 1 is inputted to that position. So if a 5 is identified, the 0 at position 6 is put to a 1\n",
    "#This is making our output a categorical variable\n",
    "\n",
    "from keras.utils import to_categorical\n",
    "\n",
    "#one-hot encode target column\n",
    "#y_train = to_categorical(y_train)\n",
    "\n",
    "y_train = to_categorical(y_train)\n",
    "y_test = to_categorical(y_test)"
   ]
  },
  {
   "cell_type": "code",
   "execution_count": 7,
   "metadata": {},
   "outputs": [],
   "source": [
    "#Sequential model allows you to build the network layer by layer\n",
    "from keras.models import Sequential\n",
    "\n",
    "#Conv2D allows each layer to have convolutions on 2D matrices\n",
    "from keras.layers import Dense, Conv2D, Flatten"
   ]
  },
  {
   "cell_type": "code",
   "execution_count": 8,
   "metadata": {},
   "outputs": [],
   "source": [
    "#create the model\n",
    "model = Sequential()"
   ]
  },
  {
   "cell_type": "code",
   "execution_count": 9,
   "metadata": {},
   "outputs": [],
   "source": [
    "#add layers to the model\n",
    "\n",
    "#first layer is a convolutional layer with 64 nodes, 3x3 kernel matrix, and uses relu activation \n",
    "#the input size is set to 28,28,1 to indicate the length, height and channels of the input image\n",
    "#channels of the image is set to 1 to indicate that the image is greyscale\n",
    "model.add(Conv2D(64, kernel_size=3, activation='relu', input_shape=(28,28,1)))\n",
    "\n",
    "#second layer is a convolutional layer with 32 nodes, 3x3 kernel matrix, and also uses relu activation\n",
    "model.add(Conv2D(32, kernel_size=3, activation='relu'))\n",
    "\n",
    "#Flatten is used to connect the convolutional input layers to the dense output layer\n",
    "model.add(Flatten())\n",
    "\n",
    "#Dense layer is the output layer which has 10 nodes, for each category of output from 0-9\n",
    "#it uses the softmax function to generate probability distributions\n",
    "model.add(Dense(10, activation='softmax'))"
   ]
  },
  {
   "cell_type": "code",
   "execution_count": 10,
   "metadata": {},
   "outputs": [],
   "source": [
    "#compiling the model\n",
    "\n",
    "#takes 3 items: Optimiser, loss function and metrics\n",
    "\n",
    "#Optimiser controls the learning rate, here adam optimiser is being used. \n",
    "#Learning rate controls how the fast the weights are being calculated. Faster learning rate means that \n",
    "#the weights are calculated faster but the accuracy may decrease, and a slower learning rate means that the\n",
    "#accuracy of the system is being ensured by the optimal calculation of weights\n",
    "\n",
    "#The Loss function used here is the categorical_crossentropy. A lower score means the system is performing better\n",
    "\n",
    "model.compile(optimizer='adam', loss='categorical_crossentropy', metrics=['accuracy'])"
   ]
  },
  {
   "cell_type": "code",
   "execution_count": 11,
   "metadata": {},
   "outputs": [
    {
     "name": "stdout",
     "output_type": "stream",
     "text": [
      "Train on 60000 samples, validate on 10000 samples\n",
      "Epoch 1/7\n",
      "60000/60000 [==============================] - 149s 2ms/step - loss: 1.8236 - acc: 0.8561 - val_loss: 0.0900 - val_acc: 0.9721\n",
      "Epoch 2/7\n",
      "60000/60000 [==============================] - 151s 3ms/step - loss: 0.0754 - acc: 0.9772 - val_loss: 0.0769 - val_acc: 0.9771\n",
      "Epoch 3/7\n",
      "60000/60000 [==============================] - 155s 3ms/step - loss: 0.0463 - acc: 0.9851 - val_loss: 0.0750 - val_acc: 0.9785\n",
      "Epoch 4/7\n",
      "60000/60000 [==============================] - 158s 3ms/step - loss: 0.0339 - acc: 0.9899 - val_loss: 0.0890 - val_acc: 0.9771\n",
      "Epoch 5/7\n",
      "60000/60000 [==============================] - 158s 3ms/step - loss: 0.0252 - acc: 0.9922 - val_loss: 0.1043 - val_acc: 0.9765\n",
      "Epoch 6/7\n",
      "60000/60000 [==============================] - 154s 3ms/step - loss: 0.0247 - acc: 0.9931 - val_loss: 0.1212 - val_acc: 0.9775\n",
      "Epoch 7/7\n",
      "60000/60000 [==============================] - 154s 3ms/step - loss: 0.0197 - acc: 0.9944 - val_loss: 0.1320 - val_acc: 0.9756\n"
     ]
    },
    {
     "data": {
      "text/plain": [
       "<keras.callbacks.History at 0x7fcb1c690e10>"
      ]
     },
     "execution_count": 11,
     "metadata": {},
     "output_type": "execute_result"
    }
   ],
   "source": [
    "#training the model\n",
    "\n",
    "#training the model is done by taking into account the training data (X_train), target data(y_train), \n",
    "#validation data (X_test, y_test), and number of iterations or epochs\n",
    "model.fit(X_train, y_train, validation_data=(X_test,y_test), epochs=7)"
   ]
  },
  {
   "cell_type": "code",
   "execution_count": 12,
   "metadata": {},
   "outputs": [
    {
     "data": {
      "text/plain": [
       "array([[1.4427099e-16, 9.3042950e-23, 1.9323265e-17, 5.8781777e-17,\n",
       "        2.0721988e-24, 5.8083123e-20, 1.8270465e-27, 1.0000000e+00,\n",
       "        5.9787913e-17, 4.1664704e-14],\n",
       "       [2.5312275e-13, 7.1791664e-16, 1.0000000e+00, 6.3707333e-16,\n",
       "        1.9963160e-22, 5.8991438e-22, 4.4988122e-10, 7.1922159e-23,\n",
       "        7.9582929e-12, 4.0994105e-22],\n",
       "       [3.6527323e-14, 1.0000000e+00, 2.0620748e-08, 1.0835665e-14,\n",
       "        3.9185713e-10, 1.3211507e-12, 3.6665813e-14, 1.9338836e-12,\n",
       "        5.9225993e-09, 2.0003471e-16],\n",
       "       [1.0000000e+00, 5.9945935e-25, 3.0456144e-19, 5.1858157e-23,\n",
       "        2.4402388e-18, 1.3705241e-15, 8.2802050e-17, 5.9118101e-20,\n",
       "        1.2642033e-18, 1.1107185e-15],\n",
       "       [7.0076974e-13, 7.7651160e-21, 2.7564328e-18, 1.4151109e-19,\n",
       "        1.0000000e+00, 3.8685542e-18, 5.3635150e-21, 1.4542215e-13,\n",
       "        4.7586419e-13, 5.7659827e-12]], dtype=float32)"
      ]
     },
     "execution_count": 12,
     "metadata": {},
     "output_type": "execute_result"
    }
   ],
   "source": [
    "#making the model predict the first 5 digits of the testing set\n",
    "prediction = model.predict(X_test[:5])"
   ]
  },
  {
   "cell_type": "code",
   "execution_count": 17,
   "metadata": {},
   "outputs": [
    {
     "data": {
      "text/plain": [
       "array([[0., 0., 0., 0., 0., 0., 0., 1., 0., 0.],\n",
       "       [0., 0., 1., 0., 0., 0., 0., 0., 0., 0.],\n",
       "       [0., 1., 0., 0., 0., 0., 0., 0., 0., 0.],\n",
       "       [1., 0., 0., 0., 0., 0., 0., 0., 0., 0.],\n",
       "       [0., 0., 0., 0., 1., 0., 0., 0., 0., 0.]], dtype=float32)"
      ]
     },
     "execution_count": 17,
     "metadata": {},
     "output_type": "execute_result"
    }
   ],
   "source": [
    "#checking the labels for the first 5 digits from the validation set\n",
    "y_test[:5]"
   ]
  },
  {
   "cell_type": "code",
   "execution_count": 2,
   "metadata": {},
   "outputs": [],
   "source": [
    "import numpy as np"
   ]
  },
  {
   "cell_type": "code",
   "execution_count": 16,
   "metadata": {},
   "outputs": [],
   "source": [
    "prediction = np.array([[1.4427099e-16, 9.3042950e-23, 1.9323265e-17, 5.8781777e-17,\n",
    "        2.0721988e-24, 5.8083123e-20, 1.8270465e-27, 1.0000000e+00,\n",
    "        5.9787913e-17, 4.1664704e-14],\n",
    "       [2.5312275e-13, 7.1791664e-16, 1.0000000e+00, 6.3707333e-16,\n",
    "        1.9963160e-22, 5.8991438e-22, 4.4988122e-10, 7.1922159e-23,\n",
    "        7.9582929e-12, 4.0994105e-22],\n",
    "       [3.6527323e-14, 1.0000000e+00, 2.0620748e-08, 1.0835665e-14,\n",
    "        3.9185713e-10, 1.3211507e-12, 3.6665813e-14, 1.9338836e-12,\n",
    "        5.9225993e-09, 2.0003471e-16],\n",
    "       [1.0000000e+00, 5.9945935e-25, 3.0456144e-19, 5.1858157e-23,\n",
    "        2.4402388e-18, 1.3705241e-15, 8.2802050e-17, 5.9118101e-20,\n",
    "        1.2642033e-18, 1.1107185e-15],\n",
    "       [7.0076974e-13, 7.7651160e-21, 2.7564328e-18, 1.4151109e-19,\n",
    "        1.0000000e+00, 3.8685542e-18, 5.3635150e-21, 1.4542215e-13,\n",
    "        4.7586419e-13, 5.7659827e-12]])"
   ]
  },
  {
   "cell_type": "code",
   "execution_count": 17,
   "metadata": {},
   "outputs": [
    {
     "name": "stdout",
     "output_type": "stream",
     "text": [
      "(array([7]),)\n",
      "(array([2]),)\n",
      "(array([1]),)\n",
      "(array([0]),)\n",
      "(array([4]),)\n"
     ]
    }
   ],
   "source": [
    "for elements in prediction:\n",
    "    print(np.where(elements==1))"
   ]
  },
  {
   "cell_type": "code",
   "execution_count": null,
   "metadata": {},
   "outputs": [],
   "source": []
  },
  {
   "cell_type": "code",
   "execution_count": null,
   "metadata": {},
   "outputs": [],
   "source": []
  }
 ],
 "metadata": {
  "kernelspec": {
   "display_name": "Python 3",
   "language": "python",
   "name": "python3"
  },
  "language_info": {
   "codemirror_mode": {
    "name": "ipython",
    "version": 3
   },
   "file_extension": ".py",
   "mimetype": "text/x-python",
   "name": "python",
   "nbconvert_exporter": "python",
   "pygments_lexer": "ipython3",
   "version": "3.5.2"
  }
 },
 "nbformat": 4,
 "nbformat_minor": 2
}
